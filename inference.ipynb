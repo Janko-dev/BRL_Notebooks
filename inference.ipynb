{
 "cells": [
  {
   "cell_type": "code",
   "execution_count": 1,
   "metadata": {},
   "outputs": [],
   "source": [
    "import numpy as np\n",
    "\n",
    "class CPT:\n",
    "    def __init__(self, array, axes):\n",
    "        self.array = array\n",
    "        self.axes = {name: axis for axis, name in enumerate(axes)}\n",
    "\n",
    "    def other_axes(self, other_axis_name):\n",
    "        return tuple(axis for name, axis in self.axes.items() if other_axis_name != name)\n",
    "\n",
    "    def is_joint_prob(self):\n",
    "        return np.all(np.isclose(np.sum(self.array), 1.0))\n",
    "    \n",
    "    def is_cond_prob(self, var_name):\n",
    "        return np.all(np.isclose(np.sum(self.array, axis=self.axes[var_name]), 1.0))\n",
    "    \n",
    "    def __repr__(self) -> str:\n",
    "        return str((self.array, self.axes))"
   ]
  },
  {
   "cell_type": "code",
   "execution_count": 2,
   "metadata": {},
   "outputs": [
    {
     "data": {
      "text/plain": [
       "(array([[0.4, 0.8, 0.9],\n",
       "       [0.6, 0.2, 0.1]]), {'v1': 0, 'h1': 1})"
      ]
     },
     "execution_count": 2,
     "metadata": {},
     "output_type": "execute_result"
    }
   ],
   "source": [
    "p_v1_given_h1 = CPT(np.array([\n",
    "    [0.4, 0.8, 0.9], \n",
    "    [0.6, 0.2, 0.1]\n",
    "]), [\"v1\", \"h1\"])\n",
    "p_v1_given_h1"
   ]
  },
  {
   "cell_type": "code",
   "execution_count": 3,
   "metadata": {},
   "outputs": [
    {
     "data": {
      "text/plain": [
       "(array([0.6, 0.3, 0.1]), {'h1': 0})"
      ]
     },
     "execution_count": 3,
     "metadata": {},
     "output_type": "execute_result"
    }
   ],
   "source": [
    "p_h1 = CPT(np.array([.6, .3, .1]), ['h1'])\n",
    "p_h1"
   ]
  },
  {
   "cell_type": "code",
   "execution_count": 51,
   "metadata": {},
   "outputs": [
    {
     "data": {
      "text/plain": [
       "('v1', 0)"
      ]
     },
     "execution_count": 51,
     "metadata": {},
     "output_type": "execute_result"
    }
   ],
   "source": [
    "sorted(p_v1_given_h1.axes.items(), key=lambda x: x[1])[0]"
   ]
  },
  {
   "cell_type": "code",
   "execution_count": 7,
   "metadata": {},
   "outputs": [
    {
     "data": {
      "text/plain": [
       "(array([[0.6, 0.3, 0.1],\n",
       "       [0.6, 0.3, 0.1]]), {'v1': 0, 'h1': 1})"
      ]
     },
     "execution_count": 7,
     "metadata": {},
     "output_type": "execute_result"
    }
   ],
   "source": [
    "def tile_to_shape_along_axis(arr, target_shape, target_axis):\n",
    "    # get a list of all axes\n",
    "    raw_axes = list(range(len(target_shape)))\n",
    "    tile_dimensions = [target_shape[a] for a in raw_axes if a != target_axis]\n",
    "    if len(arr.shape) == 0:\n",
    "        # If given a scalar, also tile it in the target dimension (so it's a bunch of 1s)\n",
    "        tile_dimensions += [target_shape[target_axis]]\n",
    "    elif len(arr.shape) == 1:\n",
    "        # If given an array, it should be the same shape as the target axis\n",
    "        assert arr.shape[0] == target_shape[target_axis]\n",
    "        tile_dimensions += [1]\n",
    "    else:\n",
    "        raise NotImplementedError()\n",
    "    tiled = np.tile(arr, tile_dimensions)\n",
    "\n",
    "    # Tiling only adds prefix axes, so rotate this one back into place\n",
    "    shifted_axes = raw_axes[:target_axis] + [raw_axes[-1]] + raw_axes[target_axis:-1]\n",
    "    transposed = np.transpose(tiled, shifted_axes)\n",
    "\n",
    "    # Double-check this code tiled it to the correct shape\n",
    "    assert transposed.shape == target_shape\n",
    "    return transposed\n",
    "\n",
    "def tile_to_other_dist_along_axis_name(tiling_labeled_array: CPT, target_array: CPT):\n",
    "    assert len(tiling_labeled_array.axes) == 1\n",
    "    target_axis_label = sorted(tiling_labeled_array.axes.items(), key=lambda x: x[1])[0][0]\n",
    "    \n",
    "    return CPT(\n",
    "        tile_to_shape_along_axis(\n",
    "            tiling_labeled_array.array,\n",
    "            target_array.array.shape,\n",
    "            target_array.axes[target_axis_label]\n",
    "        ),\n",
    "        axes = target_array.axes\n",
    "    )\n",
    "\n",
    "tiled_p_h1 = tile_to_other_dist_along_axis_name(p_h1, p_v1_given_h1)\n",
    "tiled_p_h1"
   ]
  },
  {
   "cell_type": "code",
   "execution_count": 5,
   "metadata": {},
   "outputs": [
    {
     "data": {
      "text/plain": [
       "array([[0.4, 0.8, 0.9],\n",
       "       [0.6, 0.2, 0.1]])"
      ]
     },
     "execution_count": 5,
     "metadata": {},
     "output_type": "execute_result"
    }
   ],
   "source": [
    "p_v1_given_h1.array"
   ]
  },
  {
   "cell_type": "code",
   "execution_count": 6,
   "metadata": {},
   "outputs": [
    {
     "data": {
      "text/plain": [
       "array([0.6, 0.3, 0.1])"
      ]
     },
     "execution_count": 6,
     "metadata": {},
     "output_type": "execute_result"
    }
   ],
   "source": [
    "p_h1.array"
   ]
  },
  {
   "cell_type": "code",
   "execution_count": 8,
   "metadata": {},
   "outputs": [
    {
     "data": {
      "text/plain": [
       "(array([[0.6, 0.3, 0.1],\n",
       "       [0.6, 0.3, 0.1]]), {'v1': 0, 'h1': 1})"
      ]
     },
     "execution_count": 8,
     "metadata": {},
     "output_type": "execute_result"
    }
   ],
   "source": [
    "tiled_p_h1"
   ]
  },
  {
   "cell_type": "code",
   "execution_count": 9,
   "metadata": {},
   "outputs": [
    {
     "data": {
      "text/plain": [
       "array([[0.24, 0.24, 0.09],\n",
       "       [0.36, 0.06, 0.01]])"
      ]
     },
     "execution_count": 9,
     "metadata": {},
     "output_type": "execute_result"
    }
   ],
   "source": [
    "p_v1_given_h1.array * p_h1.array"
   ]
  },
  {
   "cell_type": "code",
   "execution_count": 10,
   "metadata": {},
   "outputs": [
    {
     "data": {
      "text/plain": [
       "array([[0.24, 0.24, 0.09],\n",
       "       [0.36, 0.06, 0.01]])"
      ]
     },
     "execution_count": 10,
     "metadata": {},
     "output_type": "execute_result"
    }
   ],
   "source": [
    "p_v1_given_h1.array * tiled_p_h1.array"
   ]
  },
  {
   "cell_type": "code",
   "execution_count": 4,
   "metadata": {},
   "outputs": [
    {
     "data": {
      "text/plain": [
       "True"
      ]
     },
     "execution_count": 4,
     "metadata": {},
     "output_type": "execute_result"
    }
   ],
   "source": [
    "np.isclose(np.sum(p_v1_given_h1.array * p_h1.array), 1.0)"
   ]
  },
  {
   "cell_type": "code",
   "execution_count": null,
   "metadata": {},
   "outputs": [],
   "source": [
    "class Node:\n",
    "    def __init__(self, ) -> None:\n",
    "        "
   ]
  }
 ],
 "metadata": {
  "kernelspec": {
   "display_name": "ktai",
   "language": "python",
   "name": "python3"
  },
  "language_info": {
   "codemirror_mode": {
    "name": "ipython",
    "version": 3
   },
   "file_extension": ".py",
   "mimetype": "text/x-python",
   "name": "python",
   "nbconvert_exporter": "python",
   "pygments_lexer": "ipython3",
   "version": "3.8.16"
  },
  "orig_nbformat": 4
 },
 "nbformat": 4,
 "nbformat_minor": 2
}
